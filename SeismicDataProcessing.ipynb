{
 "cells": [
  {
   "cell_type": "markdown",
   "metadata": {},
   "source": [
    "# Seismic Data Processing & Cabled Arrays \n",
    "\n",
    "![cabled_array](./FIGURES/cabled_array.jpg)"
   ]
  },
  {
   "cell_type": "markdown",
   "metadata": {},
   "source": [
    "The following notebook is intended to give you an overview of the key methods used to **download**, **process** and **view** seismic data. Hopefully, at the end of this notebook, you'll be able to play a little bit around with your own data !\n",
    "\n",
    "The functions and modules used in this notebook are largely inspired from those developped in the [**ObsPy**](https://github.com/obspy/obspy/wiki) package. ObsPy offers a broad range of [functions](https://docs.obspy.org/packages/index.html) whose aim is to standardize and ease the maniuplation of seismic data.\n",
    "\n",
    "In this notebook we'll focus our study on the **OOI** (and **ONC**...) cabled arrays\n",
    "\n",
    "## Let's import some useful packages !"
   ]
  },
  {
   "cell_type": "code",
   "execution_count": 1,
   "metadata": {
    "collapsed": true
   },
   "outputs": [],
   "source": [
    "import matplotlib.pyplot as plt\n",
    "import matplotlib\n",
    "import numpy as np\n",
    "import copy\n",
    "import pickle\n",
    "from datetime import datetime\n",
    "from obspy import UTCDateTime\n",
    "import sys"
   ]
  },
  {
   "cell_type": "code",
   "execution_count": 2,
   "metadata": {
    "collapsed": true
   },
   "outputs": [],
   "source": [
    "#print(sys.path)"
   ]
  },
  {
   "cell_type": "markdown",
   "metadata": {},
   "source": [
    "## Accessing the network metadata\n",
    "\n",
    "The **metadata** contains all useful details needed to describe the network (number of stations and coordinates, type of channels...). The **metadata** is different from the **waveform data** itself but they are complementary if we want to process correctly the waveforms.\n",
    "\n",
    "Once you start a new research subject related to seismology, the first thing you need is the code (i.e. \"AZ\" or \"BB\") related to your network. A large number of networks are listed on [**IRIS**](http://ds.iris.edu/mda).\n",
    "\n",
    "Here, we'll use the networks codes [\"OO\"](http://ds.iris.edu/mda/OO)(Ocean Observatories Initiative) and [\"NV\"](http://ds.iris.edu/mda/NV)(formerly Neptune Canada and now Ocean Networks Canada).\n",
    "\n",
    "Let's see how to get the metadata associated to our network."
   ]
  },
  {
   "cell_type": "markdown",
   "metadata": {},
   "source": [
    "First we need to initialize a `Client` object which will help us retrieve the data by redirecting to the appropriate webservice. The argument given to `Client` can be the webservice name or it's URL. "
   ]
  },
  {
   "cell_type": "code",
   "execution_count": 3,
   "metadata": {
    "scrolled": true
   },
   "outputs": [
    {
     "name": "stdout",
     "output_type": "stream",
     "text": [
      "FDSN Webservice Client (base url: http://service.iris.edu)\n",
      "Available Services: 'dataselect' (v1.1.5), 'event' (v1.1.8), 'station' (v1.1.32), 'available_event_catalogs', 'available_event_contributors'\n",
      "\n",
      "Use e.g. client.help('dataselect') for the\n",
      "parameter description of the individual services\n",
      "or client.help() for parameter description of\n",
      "all webservices.\n"
     ]
    }
   ],
   "source": [
    "from obspy.clients.fdsn import Client\n",
    "\n",
    "client_name='IRIS'\n",
    "client_name='http://service.iris.edu'\n",
    "\n",
    "client=Client(client_name)\n",
    "\n",
    "print(client)"
   ]
  },
  {
   "cell_type": "markdown",
   "metadata": {},
   "source": [
    "See below the list of pre-registered webservices in ObsPy:"
   ]
  },
  {
   "cell_type": "code",
   "execution_count": 6,
   "metadata": {
    "scrolled": true
   },
   "outputs": [
    {
     "name": "stdout",
     "output_type": "stream",
     "text": [
      "BGR     http://eida.bgr.de\n",
      "EMSC    http://www.seismicportal.eu\n",
      "ETH     http://eida.ethz.ch\n",
      "GEONET  http://service.geonet.org.nz\n",
      "GFZ     http://geofon.gfz-potsdam.de\n",
      "ICGC    http://ws.icgc.cat\n",
      "INGV    http://webservices.ingv.it\n",
      "IPGP    http://eida.ipgp.fr\n",
      "IRIS    http://service.iris.edu\n",
      "ISC     http://isc-mirror.iris.washington.edu\n",
      "KOERI   http://eida.koeri.boun.edu.tr\n",
      "LMU     http://erde.geophysik.uni-muenchen.de\n",
      "NCEDC   http://service.ncedc.org\n",
      "NIEP    http://eida-sc3.infp.ro\n",
      "NOA     http://eida.gein.noa.gr\n",
      "ODC     http://www.orfeus-eu.org\n",
      "ORFEUS  http://www.orfeus-eu.org\n",
      "RESIF   http://ws.resif.fr\n",
      "SCEDC   http://service.scedc.caltech.edu\n",
      "TEXNET  http://rtserve.beg.utexas.edu\n",
      "USGS    http://earthquake.usgs.gov\n",
      "USP     http://sismo.iag.usp.br\n"
     ]
    }
   ],
   "source": [
    "from obspy.clients.fdsn.header import URL_MAPPINGS\n",
    "\n",
    "for key in sorted(URL_MAPPINGS.keys()):\n",
    "    print(\"{0:<7} {1}\".format(key,  URL_MAPPINGS[key]))"
   ]
  },
  {
   "cell_type": "markdown",
   "metadata": {},
   "source": [
    "Now that the `Client` has been loaded we can retrieve our network info:"
   ]
  },
  {
   "cell_type": "code",
   "execution_count": 4,
   "metadata": {},
   "outputs": [
    {
     "name": "stdout",
     "output_type": "stream",
     "text": [
      "Inventory created at 2018-02-21T02:07:50.000000Z\n",
      "\tCreated by: IRIS WEB SERVICE: fdsnws-station | version: 1.1.32\n",
      "\t\t    http://service.iris.edu/fdsnws/station/1/query?starttime=2015-01-01...\n",
      "\tSending institution: IRIS-DMC (IRIS-DMC)\n",
      "\tContains:\n",
      "\t\tNetworks (2):\n",
      "\t\t\tNV, OO\n",
      "\t\tStations (18):\n",
      "\t\t\tNV.KEMF (Main Field)\n",
      "\t\t\tNV.NC27 (Node ODP1027, BC)\n",
      "\t\t\tNV.NC89 (Node ODP1089, BC)\n",
      "\t\t\tNV.NCBC (Barkley Canyon, BC)\n",
      "\t\t\tNV.NCHR (High Rise)\n",
      "\t\t\tOO.AXAS1 (RSN Axial Ashes 1)\n",
      "\t\t\tOO.AXAS2 (RSN Axial Ashes 2)\n",
      "\t\t\tOO.AXBA1 (RSN Axial Base 1)\n",
      "\t\t\tOO.AXCC1 (RSN Axial East Caldera 1)\n",
      "\t\t\tOO.AXEC1 (RSN Axial East Caldera 1)\n",
      "\t\t\tOO.AXEC2 (RSN Axial East Caldera 2)\n",
      "\t\t\tOO.AXEC3 (RSN Axial East Caldera 3)\n",
      "\t\t\tOO.AXID1 (RSN Axial International)\n",
      "\t\t\tOO.HYS11 (RSN Hydrate Summit 1-1)\n",
      "\t\t\tOO.HYS12 (RSN Hydrate Summit 1-2)\n",
      "\t\t\tOO.HYS13 (RSN Hydrate Summit 1-3)\n",
      "\t\t\tOO.HYS14 (RSN Hydrate Summit 1-4)\n",
      "\t\t\tOO.HYSB1 (RSN Hydrate Slope Base)\n",
      "\t\tChannels (0):\n",
      "\n"
     ]
    },
    {
     "name": "stderr",
     "output_type": "stream",
     "text": [
      "/home/baillard/PROGRAMS/anaconda3/lib/python3.6/site-packages/obspy/imaging/maps.py:55: UserWarning: Neither basemap nor cartopy installed, map plots will not work.\n",
      "  warnings.warn(msg)\n"
     ]
    },
    {
     "ename": "ImportError",
     "evalue": "Neither Basemap nor Cartopy could be imported.",
     "output_type": "error",
     "traceback": [
      "\u001b[0;31m---------------------------------------------------------------------------\u001b[0m",
      "\u001b[0;31mImportError\u001b[0m                               Traceback (most recent call last)",
      "\u001b[0;32m<ipython-input-4-b933557288d6>\u001b[0m in \u001b[0;36m<module>\u001b[0;34m()\u001b[0m\n\u001b[1;32m     17\u001b[0m \u001b[0;31m### Plot inventory\u001b[0m\u001b[0;34m\u001b[0m\u001b[0;34m\u001b[0m\u001b[0m\n\u001b[1;32m     18\u001b[0m \u001b[0mplt\u001b[0m\u001b[0;34m.\u001b[0m\u001b[0mioff\u001b[0m\u001b[0;34m(\u001b[0m\u001b[0;34m)\u001b[0m\u001b[0;34m\u001b[0m\u001b[0m\n\u001b[0;32m---> 19\u001b[0;31m \u001b[0minventory\u001b[0m\u001b[0;34m.\u001b[0m\u001b[0mplot\u001b[0m\u001b[0;34m(\u001b[0m\u001b[0mcolor_per_network\u001b[0m\u001b[0;34m=\u001b[0m\u001b[0;32mTrue\u001b[0m\u001b[0;34m)\u001b[0m \u001b[0;31m### Plot global\u001b[0m\u001b[0;34m\u001b[0m\u001b[0m\n\u001b[0m\u001b[1;32m     20\u001b[0m \u001b[0minventory\u001b[0m\u001b[0;34m.\u001b[0m\u001b[0mplot\u001b[0m\u001b[0;34m(\u001b[0m\u001b[0mprojection\u001b[0m\u001b[0;34m=\u001b[0m\u001b[0;34m'local'\u001b[0m\u001b[0;34m,\u001b[0m\u001b[0mcolor_per_network\u001b[0m\u001b[0;34m=\u001b[0m\u001b[0;32mTrue\u001b[0m\u001b[0;34m)\u001b[0m \u001b[0;31m### Plot local\u001b[0m\u001b[0;34m\u001b[0m\u001b[0m\n\u001b[1;32m     21\u001b[0m \u001b[0mplt\u001b[0m\u001b[0;34m.\u001b[0m\u001b[0mshow\u001b[0m\u001b[0;34m(\u001b[0m\u001b[0;34m)\u001b[0m\u001b[0;34m\u001b[0m\u001b[0m\n",
      "\u001b[0;32m~/PROGRAMS/anaconda3/lib/python3.6/site-packages/obspy/core/inventory/inventory.py\u001b[0m in \u001b[0;36mplot\u001b[0;34m(self, projection, resolution, continent_fill_color, water_fill_color, marker, size, label, color, color_per_network, colormap, legend, time, show, outfile, method, fig, **kwargs)\u001b[0m\n\u001b[1;32m    747\u001b[0m                        \u001b[0mwater_fill_color\u001b[0m\u001b[0;34m=\u001b[0m\u001b[0mwater_fill_color\u001b[0m\u001b[0;34m,\u001b[0m\u001b[0;34m\u001b[0m\u001b[0m\n\u001b[1;32m    748\u001b[0m                        \u001b[0mcolormap\u001b[0m\u001b[0;34m=\u001b[0m\u001b[0;32mNone\u001b[0m\u001b[0;34m,\u001b[0m \u001b[0mcolorbar\u001b[0m\u001b[0;34m=\u001b[0m\u001b[0;32mFalse\u001b[0m\u001b[0;34m,\u001b[0m \u001b[0mmarker\u001b[0m\u001b[0;34m=\u001b[0m\u001b[0mmarker\u001b[0m\u001b[0;34m,\u001b[0m\u001b[0;34m\u001b[0m\u001b[0m\n\u001b[0;32m--> 749\u001b[0;31m                        title=None, show=False, fig=fig, **kwargs)\n\u001b[0m\u001b[1;32m    750\u001b[0m \u001b[0;34m\u001b[0m\u001b[0m\n\u001b[1;32m    751\u001b[0m         \u001b[0;32mif\u001b[0m \u001b[0mlegend\u001b[0m \u001b[0;32mis\u001b[0m \u001b[0;32mnot\u001b[0m \u001b[0;32mNone\u001b[0m \u001b[0;32mand\u001b[0m \u001b[0mcolor_per_network\u001b[0m\u001b[0;34m:\u001b[0m\u001b[0;34m\u001b[0m\u001b[0m\n",
      "\u001b[0;32m~/PROGRAMS/anaconda3/lib/python3.6/site-packages/obspy/imaging/maps.py\u001b[0m in \u001b[0;36mplot_map\u001b[0;34m(method, *args, **kwargs)\u001b[0m\n\u001b[1;32m    768\u001b[0m             \u001b[0;32mreturn\u001b[0m \u001b[0mplot_cartopy\u001b[0m\u001b[0;34m(\u001b[0m\u001b[0;34m*\u001b[0m\u001b[0margs\u001b[0m\u001b[0;34m,\u001b[0m \u001b[0;34m**\u001b[0m\u001b[0mkwargs\u001b[0m\u001b[0;34m)\u001b[0m\u001b[0;34m\u001b[0m\u001b[0m\n\u001b[1;32m    769\u001b[0m         \u001b[0;32melse\u001b[0m\u001b[0;34m:\u001b[0m\u001b[0;34m\u001b[0m\u001b[0m\n\u001b[0;32m--> 770\u001b[0;31m             \u001b[0;32mraise\u001b[0m \u001b[0mImportError\u001b[0m\u001b[0;34m(\u001b[0m\u001b[0;34m'Neither Basemap nor Cartopy could be imported.'\u001b[0m\u001b[0;34m)\u001b[0m\u001b[0;34m\u001b[0m\u001b[0m\n\u001b[0m\u001b[1;32m    771\u001b[0m     \u001b[0;32melif\u001b[0m \u001b[0mmethod\u001b[0m \u001b[0;34m==\u001b[0m \u001b[0;34m'basemap'\u001b[0m\u001b[0;34m:\u001b[0m\u001b[0;34m\u001b[0m\u001b[0m\n\u001b[1;32m    772\u001b[0m         \u001b[0;32mif\u001b[0m \u001b[0;32mnot\u001b[0m \u001b[0mHAS_BASEMAP\u001b[0m\u001b[0;34m:\u001b[0m\u001b[0;34m\u001b[0m\u001b[0m\n",
      "\u001b[0;31mImportError\u001b[0m: Neither Basemap nor Cartopy could be imported."
     ]
    }
   ],
   "source": [
    "### Parameters\n",
    "\n",
    "#net_code='NV'\n",
    "net_code='NV,OO'\n",
    "\n",
    "starttime = UTCDateTime(\"2015-01-01\")\n",
    "endtime = UTCDateTime(\"2015-01-02\")\n",
    "\n",
    "### Read network data\n",
    "\n",
    "inventory = client.get_stations(network=net_code,\n",
    "                                starttime=starttime,\n",
    "                                endtime=endtime)\n",
    "\n",
    "print(inventory)\n",
    "\n",
    "### Plot inventory\n",
    "plt.ioff()\n",
    "inventory.plot(color_per_network=True) ### Plot global\n",
    "inventory.plot(projection='local',color_per_network=True) ### Plot local\n",
    "plt.show()"
   ]
  },
  {
   "cell_type": "markdown",
   "metadata": {},
   "source": [
    "It is possible to be more specific when requesting the data, for example by choosing only the vertical channels (i.e. Z). Wildcards can be used to specify `network`,`station` or `channel` parameters. \n",
    "\n",
    "> **Tip**: To get more info you can also specify the `level`. When `level=\"response\"` is set, it means we will retrieve the instrument response parameters which are indispensable to correct our waveforms, we'll see that later ;)"
   ]
  },
  {
   "cell_type": "code",
   "execution_count": null,
   "metadata": {
    "collapsed": true
   },
   "outputs": [],
   "source": [
    "inventory = client.get_stations(network='OO',station='AXAS1,AXAS2',channel='*Z',\n",
    "                                starttime=starttime,\n",
    "                                endtime=endtime,level=\"channel\")\n",
    "print(inventory)\n"
   ]
  },
  {
   "cell_type": "markdown",
   "metadata": {},
   "source": [
    "After loading the `Inventory` object it's also possible to select some specific stations afterwards:"
   ]
  },
  {
   "cell_type": "code",
   "execution_count": null,
   "metadata": {
    "collapsed": true
   },
   "outputs": [],
   "source": [
    "inventory_select = inventory.select(channel=\"*Z\", station=\"AXAS1\")\n",
    "print(inventory_select)"
   ]
  },
  {
   "cell_type": "markdown",
   "metadata": {},
   "source": [
    "### Instrument Response\n",
    "\n",
    "Amplitudes observed on seismograms do not relate directly to the true ground motion. The true motion recorded is actually a combination of source characteristics, raypath attenuation and instrument filtering. Thus the amplitude read on a seismogram can be represented as the following convolution:\n",
    "\n",
    "$u(t)= s(t)*r(t)*i(t)$\n",
    "\n",
    "where $s$ depicts the source , $r$ is the attenuation and $i$ is the instrument filter.\n",
    "In the frequency domain, convolution becomes a simple multiplication. Thus by applying a Fourier transform to the seismogram, dividing by the instrument response $I(\\omega)$, and going back to the time domain, we can remove the effect of the instrument on the particle motion.\n",
    "\n",
    "Let's plot the instrument response for a specific channel:"
   ]
  },
  {
   "cell_type": "code",
   "execution_count": null,
   "metadata": {
    "collapsed": true
   },
   "outputs": [],
   "source": [
    "inventory = client.get_stations(network='OO',station='AXAS1',channel='EHZ',\n",
    "                                starttime=starttime,\n",
    "                                endtime=endtime,level=\"response\")\n",
    "\n",
    "inventory.plot_response(min_freq=0.001)\n",
    "plt.show()"
   ]
  },
  {
   "cell_type": "markdown",
   "metadata": {},
   "source": [
    "> We'll see later how to remove the  instrument response, be patient ;)"
   ]
  },
  {
   "cell_type": "markdown",
   "metadata": {},
   "source": [
    "### Station inventory I/O\n",
    "\n",
    "The inventory can also be written to a file, so that it can be stored locally on your computer for later use:"
   ]
  },
  {
   "cell_type": "code",
   "execution_count": null,
   "metadata": {
    "collapsed": true
   },
   "outputs": [],
   "source": [
    "inventory = client.get_stations(network='OO',station='AXAS1',channel='*',\n",
    "                                starttime=starttime,\n",
    "                                endtime=endtime,level=\"response\")\n",
    "\n",
    "#help(inventory.write) # to check available format\n",
    "inventory.write('station.xml',format='STATIONXML')\n"
   ]
  },
  {
   "cell_type": "markdown",
   "metadata": {},
   "source": [
    "> **Tip**: You can check what's inside your `.xml` file by dragging and dropping it directly to your favorite webbrowser. Please take some time to do it as it contains some useful info.\n",
    "\n",
    "> <font color=blue>**Info**</font>: [Station XML](https://www.fdsn.org/xml/station/) files have become the new standard to handle station metadata, it's much more comprehensible than dataless SEED files."
   ]
  },
  {
   "cell_type": "markdown",
   "metadata": {},
   "source": [
    "## Let's get some waveforms!\n",
    "\n",
    "So far we have seen how to get the metadata associated to a network, it's now time to see what mother earth has to give!\n",
    "\n",
    "### Reading seismograms\n",
    "\n",
    "The method is pretty similar than the one used for getting stations metadata, except that here we'll use the `.get_waveforms` method instead of `.get_stations` (hard to make it simpler !). The output is then redirected to a `Stream` object instead of an `Inventory` object."
   ]
  },
  {
   "cell_type": "code",
   "execution_count": null,
   "metadata": {
    "collapsed": true,
    "scrolled": true
   },
   "outputs": [],
   "source": [
    "starttime = UTCDateTime(\"2015-01-22T10:34:21\")\n",
    "duration = 20\n",
    "\n",
    "st = client.get_waveforms(network='OO',station='AX*',location=\"*\",channel='E*Z',\n",
    "                                starttime=starttime,\n",
    "                                endtime=starttime+duration)\n",
    "\n",
    "print(type(st))\n",
    "print(st)\n",
    "print(st.print_gaps())"
   ]
  },
  {
   "cell_type": "markdown",
   "metadata": {},
   "source": [
    "A `Stream` object can have multiple `Trace` objects. To access some info about the trace you can do:"
   ]
  },
  {
   "cell_type": "code",
   "execution_count": null,
   "metadata": {
    "collapsed": true
   },
   "outputs": [],
   "source": [
    "trace=st[0]\n",
    "print(type(trace))\n",
    "print(trace.stats)\n",
    "print(trace.times())\n",
    "print(trace.data)"
   ]
  },
  {
   "cell_type": "markdown",
   "metadata": {},
   "source": [
    "### Plotting seismograms\n",
    "\n",
    "You can choose to plot the data by yourself by getting `trace.data` and `trace.times()` but ObsPy offers convenient methods to plot seismograms without directly dealing with the data.\n",
    "\n",
    "* Classic plots :"
   ]
  },
  {
   "cell_type": "code",
   "execution_count": null,
   "metadata": {
    "collapsed": true
   },
   "outputs": [],
   "source": [
    "st.plot()"
   ]
  },
  {
   "cell_type": "markdown",
   "metadata": {},
   "source": [
    "* Day plots:"
   ]
  },
  {
   "cell_type": "code",
   "execution_count": null,
   "metadata": {
    "collapsed": true,
    "scrolled": true
   },
   "outputs": [],
   "source": [
    "starttime = UTCDateTime(\"2015-01-22T00:00:00\")\n",
    "\n",
    "st = client.get_waveforms(network='OO',station='AXAS2',location=\"*\",channel='E*Z',\n",
    "                                starttime=starttime,\n",
    "                                endtime=starttime+86400)\n",
    "\n",
    "trace=st[0]\n",
    "trace.plot(type='dayplot',color=['k', 'r', 'b', 'g'],interval=60) ## interval is in minutes and can be changed"
   ]
  },
  {
   "cell_type": "markdown",
   "metadata": {},
   "source": [
    "> We can see that the above trace has missing values, let's see how we can handle gaps!\n",
    "\n",
    "### Handling gaps\n",
    "\n",
    "With the `Stream.merge` method we can fill gaps with user defined values. The method will merge traces that have same ids (i.e. same station + loc + channel code). "
   ]
  },
  {
   "cell_type": "code",
   "execution_count": null,
   "metadata": {
    "collapsed": true
   },
   "outputs": [],
   "source": [
    "st_filled_gaps=None\n",
    "st_filled_gaps=copy.deepcopy(st)\n",
    "#print(st_filled_gaps[0].stats)\n",
    "#print(st_filled_gaps[1].stats)\n",
    "st_filled_gaps[0].stats.sampling_rate=200  # allow merging\n",
    "st_filled_gaps.merge(method=0, fill_value=0)\n",
    "\n",
    "trace=st_filled_gaps[0]\n",
    "trace.plot(type='dayplot',color=['k', 'r', 'b', 'g'],interval=60) ## interval is in minutes and can be changed\n"
   ]
  },
  {
   "cell_type": "markdown",
   "metadata": {},
   "source": [
    "Using ObsPy utilities to load data and detect gaps it's possible to plot a figure showing the data coverage for a specific network and for a defined time range, see example below for network ONC (~7 years):\n",
    "\n",
    "![ONC](./FIGURES/ONC.png)"
   ]
  },
  {
   "cell_type": "markdown",
   "metadata": {},
   "source": [
    "### Processing seismograms\n",
    "\n",
    "#### Filtering\n",
    "\n",
    "As you can see from the plot above, seimic onsets generated by earthquakes are sometimes hard to see on raw seismograms, this is particularly true in noisy environments and for low magnitudes earthquakes. It's generally a good idea to filter the seismograms to enhance the signal associated to an earthquake, let's take a single trace to see that."
   ]
  },
  {
   "cell_type": "code",
   "execution_count": null,
   "metadata": {
    "collapsed": true
   },
   "outputs": [],
   "source": [
    "starttime = UTCDateTime(\"2015-01-22T10:34:25\")\n",
    "duration = 20\n",
    "\n",
    "st = client.get_waveforms(network='OO',station='AXAS1',location=\"*\",channel='E*Z',\n",
    "                                starttime=starttime,\n",
    "                                endtime=starttime+duration)\n",
    "\n",
    "st.merge()\n",
    "trace=st[0]"
   ]
  },
  {
   "cell_type": "markdown",
   "metadata": {},
   "source": [
    "> **Info**: Generally one should take care when choosing the higher corner frequency as it shouldn't exceed the Nyquist frequency, here, ObsPy will take care of that by sending a warning if necessary!"
   ]
  },
  {
   "cell_type": "code",
   "execution_count": null,
   "metadata": {
    "collapsed": true
   },
   "outputs": [],
   "source": [
    "trace.plot()\n",
    "\n",
    "#### Apply different to the trace\n",
    "\n",
    "trace_filter=copy.copy(trace)\n",
    "trace_filter.filter('bandpass', freqmin=5.0, freqmax=50,corners=3, zerophase=True)\n",
    "trace_filter.plot()\n",
    "\n",
    "trace_filter=copy.copy(trace)\n",
    "trace_filter.filter('highpass', freq=50.0, corners=2, zerophase=True)\n",
    "trace_filter.plot()\n",
    "\n",
    "trace_filter=copy.copy(trace)\n",
    "trace_filter.filter('lowpass', freq=5.0, corners=2, zerophase=True)\n",
    "trace_filter.plot()"
   ]
  },
  {
   "cell_type": "markdown",
   "metadata": {},
   "source": [
    "#### Spectrograms"
   ]
  },
  {
   "cell_type": "code",
   "execution_count": null,
   "metadata": {
    "collapsed": true
   },
   "outputs": [],
   "source": [
    "starttime = UTCDateTime(\"2015-01-22T00:00:00\")\n",
    "duration = 60*10 # Let's take 10 minutes\n",
    "\n",
    "st = client.get_waveforms(network='OO',station='AXAS1',location=\"*\",channel='E*Z',\n",
    "                                starttime=starttime,\n",
    "                                endtime=starttime+duration)\n",
    "\n",
    "st.merge()\n",
    "trace=st[0]\n",
    "\n",
    "trace_filter=copy.copy(trace)\n",
    "trace_filter.filter('bandpass', freqmin=5.0, freqmax=50,corners=3, zerophase=True)\n",
    "\n",
    "trace_filter.plot()\n",
    "\n",
    "#fig,ax=plt.subplots()\n",
    "\n",
    "cmap= matplotlib.cm.get_cmap('jet')\n",
    "\n",
    "trace_filter.spectrogram(cmap=cmap,wlen=20,per_lap=0.9)\n"
   ]
  },
  {
   "cell_type": "markdown",
   "metadata": {},
   "source": [
    "#### Remove instrument response\n",
    "\n",
    "To remove the instrument response we need to load the `Stream` object with the response attached to it:"
   ]
  },
  {
   "cell_type": "code",
   "execution_count": null,
   "metadata": {
    "collapsed": true
   },
   "outputs": [],
   "source": [
    "starttime = UTCDateTime(\"2015-01-22T10:34:00\")\n",
    "duration = 60 # Let's take 10 minutes\n",
    "\n",
    "st = client.get_waveforms(network='OO',station='AXAS1',location=\"*\",channel='E*Z',\n",
    "                                starttime=starttime,\n",
    "                                endtime=starttime+duration,attach_response=True)\n",
    "\n",
    "trace=st[0]\n",
    "\n",
    "trace_sensi=trace.copy()\n",
    "trace_sensi.remove_sensitivity()  # This removes the multiplication factor applied to the seismogram\n",
    "trace.plot()\n",
    "trace_sensi.plot()\n",
    "pre_filt = [0.5, 1, 50, 70]\n",
    "trace.remove_response(output=\"DISP\",plot=True,water_level=0)\n",
    "\n",
    "trace_filter=trace.copy()\n",
    "\n",
    "trace_filter.filter('bandpass', freqmin=5.0, freqmax=50,corners=3)\n",
    "trace_filter.plot()\n",
    "\n"
   ]
  },
  {
   "cell_type": "markdown",
   "metadata": {},
   "source": [
    "### Saving seismograms to file\n",
    "\n",
    "Once you loaded the seismograms into the `Stream` object, you may want to save them locally to gain some time by avoiding making request to the webservice every time you want to play around with the data. To do so:"
   ]
  },
  {
   "cell_type": "code",
   "execution_count": null,
   "metadata": {
    "collapsed": true
   },
   "outputs": [],
   "source": [
    "st = client.get_waveforms(network='OO',station='AXAS1',location=\"*\",channel='E*Z',\n",
    "                                starttime=starttime,\n",
    "                                endtime=starttime+duration,attach_response=True)\n",
    "st.write('mytrace.mseed',format='MSEED')"
   ]
  },
  {
   "cell_type": "markdown",
   "metadata": {},
   "source": [
    "And to load it back just do:"
   ]
  },
  {
   "cell_type": "code",
   "execution_count": null,
   "metadata": {
    "collapsed": true
   },
   "outputs": [],
   "source": [
    "from obspy import read\n",
    "\n",
    "new_st=read('mytrace.mseed',format='MSEED')\n",
    "\n",
    "print(new_st)"
   ]
  },
  {
   "cell_type": "markdown",
   "metadata": {},
   "source": [
    "### Plotting picks on top of seismograms\n",
    "\n",
    "When having onset picks from seismological catalog it's possible to plot them on top of waveforms, see example below when using a function derived from [ObsPyck](https://github.com/megies/obspyck):\n",
    "\n",
    "![Waveforms](./FIGURES/Waveforms.png)"
   ]
  },
  {
   "cell_type": "markdown",
   "metadata": {},
   "source": [
    "> Figure: OOI network example with P (black) and S (red) onsets "
   ]
  }
 ],
 "metadata": {
  "kernelspec": {
   "display_name": "Python 3",
   "language": "python",
   "name": "python3"
  },
  "language_info": {
   "codemirror_mode": {
    "name": "ipython",
    "version": 3
   },
   "file_extension": ".py",
   "mimetype": "text/x-python",
   "name": "python",
   "nbconvert_exporter": "python",
   "pygments_lexer": "ipython3",
   "version": "3.6.3"
  }
 },
 "nbformat": 4,
 "nbformat_minor": 2
}
